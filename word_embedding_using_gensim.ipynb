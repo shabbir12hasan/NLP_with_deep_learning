{
 "cells": [
  {
   "cell_type": "code",
   "execution_count": 60,
   "metadata": {},
   "outputs": [],
   "source": [
    "from gensim.models import Word2Vec\n",
    "from sklearn.decomposition import PCA \n",
    "from matplotlib import pyplot"
   ]
  },
  {
   "cell_type": "code",
   "execution_count": 101,
   "metadata": {},
   "outputs": [],
   "source": [
    "# define training data \n",
    "sentences = [['this', 'is', 'the', 'first', 'sentence', 'for', 'word2vec']\n",
    "             , ['this', 'is', 'the', 'second', 'sentence']\n",
    "             , ['yet', 'another', 'sentence']\n",
    "             , ['one', 'more', 'sentence']\n",
    "             , ['and', 'the', 'final', 'sentence']] "
   ]
  },
  {
   "cell_type": "code",
   "execution_count": 102,
   "metadata": {},
   "outputs": [
    {
     "name": "stdout",
     "output_type": "stream",
     "text": [
      "Word2Vec(vocab=14, size=100, alpha=0.025)\n"
     ]
    }
   ],
   "source": [
    "# Minimum count for words is set to 1 so that no words are ignored.\n",
    "# train model \n",
    "model = Word2Vec(sentences, size=100, window=5, min_count=1) \n",
    "\n",
    "# summarize the loaded model \n",
    "print(model) "
   ]
  },
  {
   "cell_type": "code",
   "execution_count": 103,
   "metadata": {},
   "outputs": [
    {
     "name": "stdout",
     "output_type": "stream",
     "text": [
      "['this', 'is', 'the', 'first', 'sentence', 'for', 'word2vec', 'second', 'yet', 'another', 'one', 'more', 'and', 'final']\n"
     ]
    }
   ],
   "source": [
    "# summarize vocabulary \n",
    "words = list(model.wv.vocab) \n",
    "print(words) "
   ]
  },
  {
   "cell_type": "code",
   "execution_count": 104,
   "metadata": {},
   "outputs": [
    {
     "name": "stdout",
     "output_type": "stream",
     "text": [
      "[ 3.2813398e-03  3.1549861e-03  8.4872550e-04 -1.4370995e-03\n",
      "  4.0519666e-03  1.0417392e-03 -3.8427466e-03  3.1745718e-03\n",
      "  6.2848051e-04 -4.1112103e-03  3.0209494e-03  4.9321721e-03\n",
      " -4.0414403e-03 -3.3522199e-04  7.6319056e-04 -2.2792378e-04\n",
      "  5.5073673e-04  1.6858550e-03 -4.4963136e-03  2.7490607e-03\n",
      "  1.2435667e-03 -3.0901996e-05 -3.9199474e-03 -3.8511131e-03\n",
      "  4.1288591e-04  1.9501979e-03 -2.4401150e-03  4.6302313e-03\n",
      "  2.6629148e-03 -2.4382281e-03 -3.9127460e-03  4.0213522e-03\n",
      "  3.7932333e-03  7.1438076e-04  3.0724837e-03  4.5313141e-03\n",
      " -8.3693379e-04 -3.9216047e-03  1.5460040e-03 -4.4338000e-03\n",
      "  3.1042560e-03 -2.0051717e-03 -2.7658679e-03 -3.4186835e-04\n",
      " -3.0515448e-03  3.2470874e-03  3.1710286e-03 -4.7780885e-03\n",
      " -1.0750667e-03  1.7573192e-03 -2.1130673e-03  1.5129769e-03\n",
      " -2.6146674e-03  1.3860641e-03 -3.5374025e-03  2.6099812e-03\n",
      "  1.7678094e-03 -1.8045612e-03 -5.6900131e-04  6.8246773e-05\n",
      " -3.5001091e-03 -2.0800000e-03  3.0676213e-03 -2.1369639e-03\n",
      "  3.2797966e-03 -2.5152266e-03 -3.3427018e-03 -4.9871304e-03\n",
      "  3.5755646e-03 -4.5773345e-03 -1.2810071e-04  2.0238424e-03\n",
      "  2.9570507e-03 -3.0561297e-03 -3.4477792e-03 -2.7308839e-03\n",
      "  2.7985722e-03 -3.2696796e-03 -1.8794434e-03  3.2477255e-03\n",
      " -2.3736916e-03  3.8745000e-03 -1.9034358e-04 -3.3099982e-03\n",
      "  3.8199630e-03  2.5935271e-03 -2.4890262e-03  9.3422038e-04\n",
      " -3.0751422e-03 -3.6246129e-03 -1.6109040e-04  4.5760144e-03\n",
      "  2.9341604e-03 -4.3955925e-03 -8.3996105e-04  4.9509602e-03\n",
      " -5.2817736e-04  4.3064560e-04  2.6800947e-03  3.2215554e-03]\n"
     ]
    },
    {
     "name": "stderr",
     "output_type": "stream",
     "text": [
      "C:\\ProgramData\\Anaconda3\\lib\\site-packages\\ipykernel_launcher.py:2: DeprecationWarning: Call to deprecated `__getitem__` (Method will be removed in 4.0.0, use self.wv.__getitem__() instead).\n",
      "  \n"
     ]
    }
   ],
   "source": [
    "# access vector for one word from the words\n",
    "print(model['first']) "
   ]
  },
  {
   "cell_type": "code",
   "execution_count": 105,
   "metadata": {},
   "outputs": [],
   "source": [
    "# save model \n",
    "model.save('model.bin') "
   ]
  },
  {
   "cell_type": "code",
   "execution_count": 106,
   "metadata": {},
   "outputs": [
    {
     "name": "stdout",
     "output_type": "stream",
     "text": [
      "Word2Vec(vocab=14, size=100, alpha=0.025)\n"
     ]
    }
   ],
   "source": [
    "# load model \n",
    "new_model = Word2Vec.load('model.bin') \n",
    "\n",
    "print(new_model)"
   ]
  },
  {
   "cell_type": "code",
   "execution_count": 107,
   "metadata": {},
   "outputs": [
    {
     "name": "stderr",
     "output_type": "stream",
     "text": [
      "C:\\ProgramData\\Anaconda3\\lib\\site-packages\\ipykernel_launcher.py:2: DeprecationWarning: Call to deprecated `__getitem__` (Method will be removed in 4.0.0, use self.wv.__getitem__() instead).\n",
      "  \n"
     ]
    }
   ],
   "source": [
    "# fit a 2d PCA model to the vectors \n",
    "X = model[model.wv.vocab] \n",
    "pca = PCA(n_components=2) \n",
    "result = pca.fit_transform(X)"
   ]
  },
  {
   "cell_type": "code",
   "execution_count": 76,
   "metadata": {},
   "outputs": [
    {
     "data": {
      "text/plain": [
       "<matplotlib.collections.PathCollection at 0x265f7756eb8>"
      ]
     },
     "execution_count": 76,
     "metadata": {},
     "output_type": "execute_result"
    },
    {
     "data": {
      "image/png": "[encoded data removed]",
      "text/plain": [
       "<Figure size 432x288 with 1 Axes>"
      ]
     },
     "metadata": {
      "needs_background": "light"
     },
     "output_type": "display_data"
    }
   ],
   "source": []
  },
  {
   "cell_type": "code",
   "execution_count": 108,
   "metadata": {},
   "outputs": [
    {
     "data": {
      "text/plain": [
       "['this',\n",
       " 'is',\n",
       " 'the',\n",
       " 'first',\n",
       " 'sentence',\n",
       " 'for',\n",
       " 'word2vec',\n",
       " 'second',\n",
       " 'yet',\n",
       " 'another',\n",
       " 'one',\n",
       " 'more',\n",
       " 'and',\n",
       " 'final']"
      ]
     },
     "execution_count": 108,
     "metadata": {},
     "output_type": "execute_result"
    }
   ],
   "source": [
    "words = list(model.wv.vocab)\n",
    "words"
   ]
  },
  {
   "cell_type": "code",
   "execution_count": 109,
   "metadata": {},
   "outputs": [
    {
     "data": {
      "image/png": "[encoded data removed]",
      "text/plain": [
       "<Figure size 432x288 with 1 Axes>"
      ]
     },
     "metadata": {
      "needs_background": "light"
     },
     "output_type": "display_data"
    }
   ],
   "source": [
    "# create a scatter plot of the projection \n",
    "pyplot.scatter(result[:, 0], result[:, 1]) \n",
    "\n",
    "# adding words to scatter plot\n",
    "for i, word in enumerate(words):\n",
    "    pyplot.annotate(word, xy=(result[i, 0], result[i, 1])) \n",
    "    pyplot.xlim(-.02, .02)\n",
    "    pyplot.ylim(-.02, .02)\n",
    "pyplot.show()"
   ]
  },
  {
   "cell_type": "code",
   "execution_count": null,
   "metadata": {},
   "outputs": [],
   "source": []
  }
 ],
 "metadata": {
  "kernelspec": {
   "display_name": "Python 3.7.3 64-bit ('base': conda)",
   "language": "python",
   "name": "python37364bitbasecondafd17cbaddde44214aec253bc926b82ba"
  },
  "language_info": {
   "codemirror_mode": {
    "name": "ipython",
    "version": 3
   },
   "file_extension": ".py",
   "mimetype": "text/x-python",
   "name": "python",
   "nbconvert_exporter": "python",
   "pygments_lexer": "ipython3",
   "version": "3.7.3"
  }
 },
 "nbformat": 4,
 "nbformat_minor": 2
}
