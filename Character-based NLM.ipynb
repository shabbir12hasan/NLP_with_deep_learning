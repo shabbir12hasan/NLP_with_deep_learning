{
 "cells": [
  {
   "cell_type": "markdown",
   "metadata": {},
   "source": [
    "Building a character based Natural Language Model (NLM)\n",
    "\n",
    "- Sequence of characters are fed into the model at a time\n",
    "- prediction of the character is based on the sequence of character inserted into the model\n",
    "\n",
    "\n",
    "In this example, we will use a poem, \"sing a Song of Sixpence\"."
   ]
  },
  {
   "cell_type": "markdown",
   "metadata": {},
   "source": [
    "### Loading text data"
   ]
  },
  {
   "cell_type": "code",
   "execution_count": 2,
   "metadata": {},
   "outputs": [],
   "source": [
    "# load doc into memory \n",
    "def load_doc(filename): \n",
    "    # open the file as read only \n",
    "    file = open(filename, 'r') \n",
    "    # read all text \n",
    "    text = file.read() \n",
    "    # close the file \n",
    "    file.close() \n",
    "    return text"
   ]
  },
  {
   "cell_type": "code",
   "execution_count": 3,
   "metadata": {},
   "outputs": [
    {
     "name": "stdout",
     "output_type": "stream",
     "text": [
      "Sing a song of sixpence,\n",
      "A pocket full of rye.\n",
      "Four and twenty blackbirds,\n",
      "Baked in a pie. \n",
      "\n",
      "When the pie was opened \n",
      "The birds began to sing;\n",
      "Wasn't that a dainty dish,\n",
      "To set before the king. \n",
      "\n",
      "The king was in his counting house, \n",
      "Counting out his money; \n",
      "The queen was in the parlour, \n",
      "Eating bread and honey. \n",
      "\n",
      "The maid was in the garden, \n",
      "Hanging out the clothes, \n",
      "When down came a blackbird \n",
      "And pecked off her nose.\n"
     ]
    }
   ],
   "source": [
    "# load text\n",
    "raw_text = load_doc('./sing_a_song_of_sixpence')\n",
    "print(raw_text)"
   ]
  },
  {
   "cell_type": "markdown",
   "metadata": {},
   "source": [
    "### Data cleaning"
   ]
  },
  {
   "cell_type": "code",
   "execution_count": 4,
   "metadata": {},
   "outputs": [],
   "source": [
    "# stripping off new line chars\n",
    "tokens = raw_text.split()\n",
    "raw_text = ' '.join(tokens)"
   ]
  },
  {
   "cell_type": "markdown",
   "metadata": {},
   "source": [
    "### Creating a list of sequences\n",
    "\n",
    "Limiting the size of sequence to 10 characters\n",
    "\n",
    "Each sequence will have one character remove from the first place and a new character from the data source added into the last place. Plotting few examples of sequences."
   ]
  },
  {
   "cell_type": "code",
   "execution_count": 5,
   "metadata": {},
   "outputs": [
    {
     "name": "stdout",
     "output_type": "stream",
     "text": [
      "10\n"
     ]
    },
    {
     "data": {
      "text/plain": [
       "'Sing a song'"
      ]
     },
     "execution_count": 5,
     "metadata": {},
     "output_type": "execute_result"
    }
   ],
   "source": [
    "length = 10\n",
    "i=10\n",
    "print(i)\n",
    "raw_text[i-length:i+1]"
   ]
  },
  {
   "cell_type": "code",
   "execution_count": 6,
   "metadata": {},
   "outputs": [
    {
     "name": "stdout",
     "output_type": "stream",
     "text": [
      "11\n"
     ]
    },
    {
     "data": {
      "text/plain": [
       "'ing a song '"
      ]
     },
     "execution_count": 6,
     "metadata": {},
     "output_type": "execute_result"
    }
   ],
   "source": [
    "i=11\n",
    "print(i)\n",
    "\n",
    "raw_text[i-length:i+1]"
   ]
  },
  {
   "cell_type": "code",
   "execution_count": 7,
   "metadata": {},
   "outputs": [
    {
     "name": "stdout",
     "output_type": "stream",
     "text": [
      "Total sequences:  399\n"
     ]
    }
   ],
   "source": [
    "length = 10\n",
    "sequences = list()\n",
    "for i in range(length, len(raw_text)):\n",
    "    # select sequence of tokens\n",
    "    seq = raw_text[i-length:i+1] \n",
    "    sequences.append(seq)\n",
    "print(\"Total sequences: \", len(sequences))"
   ]
  },
  {
   "cell_type": "markdown",
   "metadata": {},
   "source": [
    "### Saving sequences into file"
   ]
  },
  {
   "cell_type": "code",
   "execution_count": 8,
   "metadata": {},
   "outputs": [],
   "source": [
    "def sav_doc(lines, filename):\n",
    "    data = '\\n'.join(lines)\n",
    "    file = open(filename, 'w')\n",
    "    file.write(data)\n",
    "    file.close"
   ]
  },
  {
   "cell_type": "code",
   "execution_count": 9,
   "metadata": {},
   "outputs": [],
   "source": [
    "# save sequences to file\n",
    "out_filename = 'char_sequences_sing_a_song.txt'\n",
    "sav_doc(sequences, out_filename)"
   ]
  },
  {
   "cell_type": "code",
   "execution_count": null,
   "metadata": {},
   "outputs": [],
   "source": []
  },
  {
   "cell_type": "markdown",
   "metadata": {},
   "source": [
    "## Training Language Model"
   ]
  },
  {
   "cell_type": "code",
   "execution_count": 26,
   "metadata": {},
   "outputs": [],
   "source": [
    "# load doc into memory \n",
    "def load_doc(filename): \n",
    "    # open the file as read only \n",
    "    file = open(filename, 'r') \n",
    "    # read all text \n",
    "    text = file.read() \n",
    "    # close the file \n",
    "    file.close() \n",
    "    return text \n",
    "\n",
    "# load \n",
    "in_filename = './char_sequences_sing_a_song.txt'\n",
    "raw_text = load_doc(in_filename) \n",
    "lines = raw_text.split('\\n')"
   ]
  },
  {
   "cell_type": "markdown",
   "metadata": {},
   "source": [
    "### Encoding the characters in sequence\n",
    "\n",
    "Assigning each character with an integer value, so that the sequence of character will become sequence of integers."
   ]
  },
  {
   "cell_type": "code",
   "execution_count": 27,
   "metadata": {},
   "outputs": [],
   "source": [
    "chars = sorted(list(set(raw_text)))\n",
    "\n",
    "mapping = dict((c,i) for i, c in enumerate(chars))"
   ]
  },
  {
   "cell_type": "code",
   "execution_count": 28,
   "metadata": {},
   "outputs": [
    {
     "name": "stdout",
     "output_type": "stream",
     "text": [
      "Checking the mapping of a random char: 8\n"
     ]
    }
   ],
   "source": [
    "print(\"Checking the mapping of a random char:\",mapping['C'])"
   ]
  },
  {
   "cell_type": "code",
   "execution_count": 29,
   "metadata": {},
   "outputs": [
    {
     "name": "stdout",
     "output_type": "stream",
     "text": [
      "vocab size:  38\n"
     ]
    }
   ],
   "source": [
    "# checking vocab size\n",
    "vocab_size = len(mapping)\n",
    "print(\"vocab size: \", vocab_size)"
   ]
  },
  {
   "cell_type": "code",
   "execution_count": 30,
   "metadata": {},
   "outputs": [
    {
     "data": {
      "text/plain": [
       "[[12, 23, 27, 21, 1, 15, 1, 32, 28, 27, 21],\n",
       " [23, 27, 21, 1, 15, 1, 32, 28, 27, 21, 1],\n",
       " [27, 21, 1, 15, 1, 32, 28, 27, 21, 1, 28],\n",
       " [21, 1, 15, 1, 32, 28, 27, 21, 1, 28, 20],\n",
       " [1, 15, 1, 32, 28, 27, 21, 1, 28, 20, 1]]"
      ]
     },
     "execution_count": 30,
     "metadata": {},
     "output_type": "execute_result"
    }
   ],
   "source": [
    "# processing each sequence and mapping int values\n",
    "\n",
    "sequences = list()\n",
    "for line in lines:\n",
    "    encoded_seq = [mapping[char] for char in line]\n",
    "    \n",
    "    # store\n",
    "    sequences.append(encoded_seq)\n",
    "    \n",
    "sequences[:5]"
   ]
  },
  {
   "cell_type": "markdown",
   "metadata": {},
   "source": [
    "### splitting the Input and Ouput\n",
    "\n",
    "- Selecting last columns as y and rest of the data as X\n",
    "- Encoding the data to categorical, using Kears"
   ]
  },
  {
   "cell_type": "code",
   "execution_count": 31,
   "metadata": {},
   "outputs": [],
   "source": [
    "import numpy as np\n",
    "sequences = np.array(sequences)\n",
    "X, y = sequences[:,:-1], sequences[:,-1]"
   ]
  },
  {
   "cell_type": "code",
   "execution_count": 32,
   "metadata": {},
   "outputs": [],
   "source": [
    "from keras.utils import to_categorical"
   ]
  },
  {
   "cell_type": "code",
   "execution_count": 33,
   "metadata": {},
   "outputs": [],
   "source": [
    "# hot encoding\n",
    "sequences = [to_categorical(x, num_classes=vocab_size) for x in X]"
   ]
  },
  {
   "cell_type": "code",
   "execution_count": 34,
   "metadata": {},
   "outputs": [],
   "source": [
    "X =np.array(sequences)"
   ]
  },
  {
   "cell_type": "code",
   "execution_count": 35,
   "metadata": {},
   "outputs": [],
   "source": [
    "y = to_categorical(y, num_classes=vocab_size)"
   ]
  },
  {
   "cell_type": "markdown",
   "metadata": {},
   "source": [
    "## Fitting model\n",
    "\n",
    "- Creating a single LSTM\n",
    "- Singel hidden layer, with 75 memory cells\n",
    "- softmax activation function for output layer"
   ]
  },
  {
   "cell_type": "code",
   "execution_count": 51,
   "metadata": {},
   "outputs": [],
   "source": [
    "from pickle import dump \n",
    "from keras.utils import to_categorical \n",
    "from keras.utils.vis_utils import plot_model \n",
    "from keras.models import Sequential \n",
    "from keras.layers import Dense \n",
    "from keras.layers import LSTM"
   ]
  },
  {
   "cell_type": "code",
   "execution_count": 43,
   "metadata": {},
   "outputs": [],
   "source": [
    "def define_model(X):\n",
    "    model = Sequential()\n",
    "    model.add(LSTM(75, input_shape=(X.shape[1], X.shape[2])))\n",
    "    model.add(Dense(vocab_size, activation='softmax'))\n",
    "    \n",
    "    # compile model\n",
    "    model.compile(loss='categorical_crossentropy'\n",
    "                  , optimizer='adam'\n",
    "                  , metrics=['accuracy']\n",
    "                 )\n",
    "    \n",
    "    # summarizing\n",
    "    model.summary()\n",
    "#     plot_model(model, to_file='model.png', show_shapes=True)\n",
    "    \n",
    "    return model"
   ]
  },
  {
   "cell_type": "code",
   "execution_count": 44,
   "metadata": {},
   "outputs": [
    {
     "name": "stdout",
     "output_type": "stream",
     "text": [
      "Model: \"sequential_3\"\n",
      "_________________________________________________________________\n",
      "Layer (type)                 Output Shape              Param #   \n",
      "=================================================================\n",
      "lstm_3 (LSTM)                (None, 75)                34200     \n",
      "_________________________________________________________________\n",
      "dense_3 (Dense)              (None, 38)                2888      \n",
      "=================================================================\n",
      "Total params: 37,088\n",
      "Trainable params: 37,088\n",
      "Non-trainable params: 0\n",
      "_________________________________________________________________\n"
     ]
    }
   ],
   "source": [
    "# model\n",
    "model = define_model(X)"
   ]
  },
  {
   "cell_type": "code",
   "execution_count": 45,
   "metadata": {},
   "outputs": [
    {
     "name": "stdout",
     "output_type": "stream",
     "text": [
      "Epoch 1/100\n",
      " - 2s - loss: 3.6113 - accuracy: 0.0827\n",
      "Epoch 2/100\n",
      " - 0s - loss: 3.4816 - accuracy: 0.1905\n",
      "Epoch 3/100\n",
      " - 0s - loss: 3.1917 - accuracy: 0.1905\n",
      "Epoch 4/100\n",
      " - 0s - loss: 3.0616 - accuracy: 0.1905\n",
      "Epoch 5/100\n",
      " - 0s - loss: 3.0190 - accuracy: 0.1905\n",
      "Epoch 6/100\n",
      " - 0s - loss: 2.9964 - accuracy: 0.1905\n",
      "Epoch 7/100\n",
      " - 0s - loss: 2.9737 - accuracy: 0.1905\n",
      "Epoch 8/100\n",
      " - 0s - loss: 2.9557 - accuracy: 0.1905\n",
      "Epoch 9/100\n",
      " - 0s - loss: 2.9458 - accuracy: 0.1905\n",
      "Epoch 10/100\n",
      " - 0s - loss: 2.9247 - accuracy: 0.1905\n",
      "Epoch 11/100\n",
      " - 0s - loss: 2.9097 - accuracy: 0.1905\n",
      "Epoch 12/100\n",
      " - 0s - loss: 2.8861 - accuracy: 0.1905\n",
      "Epoch 13/100\n",
      " - 0s - loss: 2.8634 - accuracy: 0.1905\n",
      "Epoch 14/100\n",
      " - 0s - loss: 2.8408 - accuracy: 0.2080\n",
      "Epoch 15/100\n",
      " - 0s - loss: 2.8031 - accuracy: 0.1930\n",
      "Epoch 16/100\n",
      " - 0s - loss: 2.7687 - accuracy: 0.2080\n",
      "Epoch 17/100\n",
      " - 0s - loss: 2.7307 - accuracy: 0.2481\n",
      "Epoch 18/100\n",
      " - 0s - loss: 2.6970 - accuracy: 0.2030\n",
      "Epoch 19/100\n",
      " - 0s - loss: 2.6345 - accuracy: 0.2431\n",
      "Epoch 20/100\n",
      " - 0s - loss: 2.6002 - accuracy: 0.2381\n",
      "Epoch 21/100\n",
      " - 0s - loss: 2.5825 - accuracy: 0.2682\n",
      "Epoch 22/100\n",
      " - 0s - loss: 2.5291 - accuracy: 0.2406\n",
      "Epoch 23/100\n",
      " - 0s - loss: 2.4756 - accuracy: 0.2707\n",
      "Epoch 24/100\n",
      " - 0s - loss: 2.4232 - accuracy: 0.2882\n",
      "Epoch 25/100\n",
      " - 0s - loss: 2.3974 - accuracy: 0.3133\n",
      "Epoch 26/100\n",
      " - 0s - loss: 2.3613 - accuracy: 0.3008\n",
      "Epoch 27/100\n",
      " - 0s - loss: 2.3048 - accuracy: 0.3233\n",
      "Epoch 28/100\n",
      " - 0s - loss: 2.2579 - accuracy: 0.3333\n",
      "Epoch 29/100\n",
      " - 0s - loss: 2.2249 - accuracy: 0.3409\n",
      "Epoch 30/100\n",
      " - 0s - loss: 2.1853 - accuracy: 0.3910\n",
      "Epoch 31/100\n",
      " - 0s - loss: 2.1387 - accuracy: 0.3584\n",
      "Epoch 32/100\n",
      " - 0s - loss: 2.0893 - accuracy: 0.4185\n",
      "Epoch 33/100\n",
      " - 0s - loss: 2.0644 - accuracy: 0.3910\n",
      "Epoch 34/100\n",
      " - 0s - loss: 2.0090 - accuracy: 0.4261\n",
      "Epoch 35/100\n",
      " - 0s - loss: 1.9856 - accuracy: 0.4612\n",
      "Epoch 36/100\n",
      " - 0s - loss: 1.9416 - accuracy: 0.4211\n",
      "Epoch 37/100\n",
      " - 0s - loss: 1.9337 - accuracy: 0.4612\n",
      "Epoch 38/100\n",
      " - 0s - loss: 1.8855 - accuracy: 0.4737\n",
      "Epoch 39/100\n",
      " - 0s - loss: 1.8302 - accuracy: 0.5013\n",
      "Epoch 40/100\n",
      " - 0s - loss: 1.7764 - accuracy: 0.5213\n",
      "Epoch 41/100\n",
      " - 0s - loss: 1.7251 - accuracy: 0.5388\n",
      "Epoch 42/100\n",
      " - 0s - loss: 1.6862 - accuracy: 0.5539\n",
      "Epoch 43/100\n",
      " - 0s - loss: 1.6591 - accuracy: 0.5714\n",
      "Epoch 44/100\n",
      " - 0s - loss: 1.6270 - accuracy: 0.5414\n",
      "Epoch 45/100\n",
      " - 0s - loss: 1.5801 - accuracy: 0.5714\n",
      "Epoch 46/100\n",
      " - 0s - loss: 1.5629 - accuracy: 0.5714\n",
      "Epoch 47/100\n",
      " - 0s - loss: 1.5183 - accuracy: 0.6015\n",
      "Epoch 48/100\n",
      " - 0s - loss: 1.4648 - accuracy: 0.5915\n",
      "Epoch 49/100\n",
      " - 0s - loss: 1.4487 - accuracy: 0.6241\n",
      "Epoch 50/100\n",
      " - 0s - loss: 1.4038 - accuracy: 0.6366\n",
      "Epoch 51/100\n",
      " - 0s - loss: 1.3521 - accuracy: 0.6491\n",
      "Epoch 52/100\n",
      " - 0s - loss: 1.3161 - accuracy: 0.6817\n",
      "Epoch 53/100\n",
      " - 0s - loss: 1.2766 - accuracy: 0.6992\n",
      "Epoch 54/100\n",
      " - 0s - loss: 1.2558 - accuracy: 0.6617\n",
      "Epoch 55/100\n",
      " - 0s - loss: 1.2229 - accuracy: 0.6892\n",
      "Epoch 56/100\n",
      " - 0s - loss: 1.1881 - accuracy: 0.7093\n",
      "Epoch 57/100\n",
      " - 0s - loss: 1.1554 - accuracy: 0.7519\n",
      "Epoch 58/100\n",
      " - 0s - loss: 1.1381 - accuracy: 0.7268\n",
      "Epoch 59/100\n",
      " - 0s - loss: 1.0900 - accuracy: 0.7544\n",
      "Epoch 60/100\n",
      " - 0s - loss: 1.0470 - accuracy: 0.7519\n",
      "Epoch 61/100\n",
      " - 0s - loss: 1.0138 - accuracy: 0.7794\n",
      "Epoch 62/100\n",
      " - 0s - loss: 0.9857 - accuracy: 0.7794\n",
      "Epoch 63/100\n",
      " - 0s - loss: 0.9608 - accuracy: 0.7820\n",
      "Epoch 64/100\n",
      " - 0s - loss: 0.9371 - accuracy: 0.8070\n",
      "Epoch 65/100\n",
      " - 0s - loss: 0.9186 - accuracy: 0.8095\n",
      "Epoch 66/100\n",
      " - 0s - loss: 0.8684 - accuracy: 0.8195\n",
      "Epoch 67/100\n",
      " - 0s - loss: 0.8329 - accuracy: 0.8446\n",
      "Epoch 68/100\n",
      " - 0s - loss: 0.8096 - accuracy: 0.8446\n",
      "Epoch 69/100\n",
      " - 0s - loss: 0.7861 - accuracy: 0.8747\n",
      "Epoch 70/100\n",
      " - 0s - loss: 0.7565 - accuracy: 0.8471\n",
      "Epoch 71/100\n",
      " - 0s - loss: 0.7226 - accuracy: 0.8922\n",
      "Epoch 72/100\n",
      " - 0s - loss: 0.6967 - accuracy: 0.9098\n",
      "Epoch 73/100\n",
      " - 0s - loss: 0.6748 - accuracy: 0.9023\n",
      "Epoch 74/100\n",
      " - 0s - loss: 0.6467 - accuracy: 0.9198\n",
      "Epoch 75/100\n",
      " - 0s - loss: 0.6329 - accuracy: 0.9323\n",
      "Epoch 76/100\n",
      " - 0s - loss: 0.5954 - accuracy: 0.9273\n",
      "Epoch 77/100\n",
      " - 0s - loss: 0.5683 - accuracy: 0.9424\n",
      "Epoch 78/100\n",
      " - 0s - loss: 0.5517 - accuracy: 0.9424\n",
      "Epoch 79/100\n",
      " - 0s - loss: 0.5244 - accuracy: 0.9524\n",
      "Epoch 80/100\n",
      " - 0s - loss: 0.5167 - accuracy: 0.9499\n",
      "Epoch 81/100\n",
      " - 0s - loss: 0.5063 - accuracy: 0.9549\n",
      "Epoch 82/100\n",
      " - 0s - loss: 0.4794 - accuracy: 0.9599\n",
      "Epoch 83/100\n",
      " - 0s - loss: 0.4658 - accuracy: 0.9624\n",
      "Epoch 84/100\n",
      " - 0s - loss: 0.4459 - accuracy: 0.9624\n",
      "Epoch 85/100\n",
      " - 0s - loss: 0.4331 - accuracy: 0.9649\n",
      "Epoch 86/100\n",
      " - 0s - loss: 0.4147 - accuracy: 0.9825\n",
      "Epoch 87/100\n",
      " - 0s - loss: 0.3966 - accuracy: 0.9699\n",
      "Epoch 88/100\n",
      " - 0s - loss: 0.3831 - accuracy: 0.9825\n",
      "Epoch 89/100\n",
      " - 0s - loss: 0.3697 - accuracy: 0.9774\n",
      "Epoch 90/100\n",
      " - 0s - loss: 0.3537 - accuracy: 0.9825\n",
      "Epoch 91/100\n",
      " - 0s - loss: 0.3353 - accuracy: 0.9825\n",
      "Epoch 92/100\n",
      " - 0s - loss: 0.3241 - accuracy: 0.9850\n",
      "Epoch 93/100\n",
      " - 0s - loss: 0.3164 - accuracy: 0.9825\n",
      "Epoch 94/100\n",
      " - 0s - loss: 0.3112 - accuracy: 0.9850\n",
      "Epoch 95/100\n",
      " - 0s - loss: 0.3080 - accuracy: 0.9825\n",
      "Epoch 96/100\n",
      " - 0s - loss: 0.2883 - accuracy: 0.9825\n",
      "Epoch 97/100\n",
      " - 0s - loss: 0.2773 - accuracy: 0.9850\n",
      "Epoch 98/100\n",
      " - 0s - loss: 0.2623 - accuracy: 0.9825\n",
      "Epoch 99/100\n",
      " - 0s - loss: 0.2503 - accuracy: 0.9900\n",
      "Epoch 100/100\n",
      " - 0s - loss: 0.2439 - accuracy: 0.9875\n"
     ]
    },
    {
     "data": {
      "text/plain": [
       "<keras.callbacks.callbacks.History at 0x257a8831d68>"
      ]
     },
     "execution_count": 45,
     "metadata": {},
     "output_type": "execute_result"
    }
   ],
   "source": [
    "# fit model\n",
    "model.fit(X, y, epochs=100, verbose=2)"
   ]
  },
  {
   "cell_type": "code",
   "execution_count": 47,
   "metadata": {},
   "outputs": [],
   "source": [
    "# saving the model\n",
    "model.save('model.h5')\n",
    "\n",
    "# saving the mapping\n",
    "dump(mapping, open('mapping.pkl','wb'))"
   ]
  },
  {
   "cell_type": "markdown",
   "metadata": {},
   "source": [
    "## Generate Text"
   ]
  },
  {
   "cell_type": "markdown",
   "metadata": {},
   "source": [
    "### Generate characters"
   ]
  },
  {
   "cell_type": "code",
   "execution_count": 108,
   "metadata": {},
   "outputs": [],
   "source": [
    "from keras.preprocessing.sequence import pad_sequences\n",
    "\n",
    "# generate a sequence of characters with a language model \n",
    "def generate_seq(model, mapping, seq_length, seed_text, n_chars): \n",
    "    in_text = seed_text \n",
    "    # generate a fixed number of characters \n",
    "    for _ in range(n_chars):\n",
    "        # encode the characters as integers \n",
    "        encoded = [mapping[char] for char in in_text] \n",
    "        \n",
    "        # truncate sequences to a fixed length \n",
    "        encoded = pad_sequences([encoded], maxlen=seq_length, truncating='pre')\n",
    "        \n",
    "        # one hot encode \n",
    "        encoded = to_categorical(encoded, num_classes=len(mapping)) \n",
    "#         encoded = encoded.reshape(1, encoded.shape[0], encoded.shape[1]) \n",
    "        \n",
    "        # predict character \n",
    "        yhat = model.predict_classes(encoded, verbose=0) \n",
    "        \n",
    "        # reverse map integer to character \n",
    "        out_char = ''\n",
    "        for char, index in mapping.items(): \n",
    "            if index == yhat: \n",
    "                out_char = char \n",
    "                break \n",
    "        # append to input \n",
    "        in_text += out_char \n",
    "    return in_text"
   ]
  },
  {
   "cell_type": "code",
   "execution_count": 67,
   "metadata": {},
   "outputs": [],
   "source": [
    "from keras.models import load_model\n",
    "# load the model\n",
    "model = load_model('model.h5')"
   ]
  },
  {
   "cell_type": "code",
   "execution_count": 68,
   "metadata": {},
   "outputs": [],
   "source": [
    "from pickle import load\n",
    "# load mapping\n",
    "mapping = load(open('mapping.pkl', 'rb'))"
   ]
  },
  {
   "cell_type": "code",
   "execution_count": 115,
   "metadata": {},
   "outputs": [
    {
     "name": "stdout",
     "output_type": "stream",
     "text": [
      "Sing a song of sixpence, A poc\n",
      "king was in his counting \n",
      "sheep was ing os cint oos thello\n"
     ]
    }
   ],
   "source": [
    "# test start of rhyme \n",
    "print(generate_seq(model, mapping, 10, 'Sing a son', 20)) \n",
    "# test mid-line \n",
    "print(generate_seq(model, mapping, 10, 'king was i', 15)) \n",
    "# test not in original \n",
    "print(generate_seq(model, mapping, 10, 'sheep was in', 20))"
   ]
  },
  {
   "cell_type": "markdown",
   "metadata": {},
   "source": [
    "### Summary\n",
    "- data preperation for the LSTM model, sequence were created of a fixed length\n",
    "- inserting encoded categorical values in place of character/integer, although, chars were converted into int\n",
    "- character model can predict sequence of chars based on the given text and length of chars need to be predicted"
   ]
  },
  {
   "cell_type": "code",
   "execution_count": null,
   "metadata": {},
   "outputs": [],
   "source": []
  }
 ],
 "metadata": {
  "kernelspec": {
   "display_name": "Python 3.7.3 64-bit ('base': conda)",
   "language": "python",
   "name": "python37364bitbasecondafd17cbaddde44214aec253bc926b82ba"
  },
  "language_info": {
   "codemirror_mode": {
    "name": "ipython",
    "version": 3
   },
   "file_extension": ".py",
   "mimetype": "text/x-python",
   "name": "python",
   "nbconvert_exporter": "python",
   "pygments_lexer": "ipython3",
   "version": "3.7.3"
  }
 },
 "nbformat": 4,
 "nbformat_minor": 2
}
